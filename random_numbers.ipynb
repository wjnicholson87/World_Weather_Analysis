{
 "cells": [
  {
   "cell_type": "code",
   "execution_count": 1,
   "id": "071e2a4b",
   "metadata": {},
   "outputs": [],
   "source": [
    "import random"
   ]
  },
  {
   "cell_type": "code",
   "execution_count": 2,
   "id": "3a4ff85b",
   "metadata": {},
   "outputs": [
    {
     "data": {
      "text/plain": [
       "0.40601134232629454"
      ]
     },
     "execution_count": 2,
     "metadata": {},
     "output_type": "execute_result"
    }
   ],
   "source": [
    "random.random()"
   ]
  },
  {
   "cell_type": "code",
   "execution_count": 3,
   "id": "b0d06740",
   "metadata": {},
   "outputs": [],
   "source": [
    "x = 1\n",
    "latitudes = []\n",
    "while x < 11:\n",
    "    random_lat = random.randint(-90, 89) + random.random()\n",
    "    latitudes.append(random_lat)\n",
    "    x += 1"
   ]
  },
  {
   "cell_type": "code",
   "execution_count": 4,
   "id": "3747d53a",
   "metadata": {},
   "outputs": [
    {
     "data": {
      "text/plain": [
       "[-33.036640311814274,\n",
       " -45.4033102563852,\n",
       " 43.819780091358865,\n",
       " 49.90054204640429,\n",
       " -31.52164126394252,\n",
       " -66.02229523798566,\n",
       " -7.620249640114605,\n",
       " 40.509435453440695,\n",
       " -9.110081731877822,\n",
       " -65.09343708485501]"
      ]
     },
     "execution_count": 4,
     "metadata": {},
     "output_type": "execute_result"
    }
   ],
   "source": [
    "latitudes"
   ]
  },
  {
   "cell_type": "code",
   "execution_count": 5,
   "id": "c0a38091",
   "metadata": {},
   "outputs": [],
   "source": [
    "import numpy as np"
   ]
  },
  {
   "cell_type": "code",
   "execution_count": 6,
   "id": "6e5250f0",
   "metadata": {},
   "outputs": [
    {
     "data": {
      "text/plain": [
       "33.58113196752136"
      ]
     },
     "execution_count": 6,
     "metadata": {},
     "output_type": "execute_result"
    }
   ],
   "source": [
    "np.random.uniform(-90.000, 90.000)"
   ]
  },
  {
   "cell_type": "code",
   "execution_count": 7,
   "id": "fcccfd7b",
   "metadata": {},
   "outputs": [
    {
     "data": {
      "text/plain": [
       "-29.238955557513314"
      ]
     },
     "execution_count": 7,
     "metadata": {},
     "output_type": "execute_result"
    }
   ],
   "source": [
    "np.random.uniform(low=-90, high=90)"
   ]
  },
  {
   "cell_type": "code",
   "execution_count": 8,
   "id": "a041e6b2",
   "metadata": {},
   "outputs": [
    {
     "data": {
      "text/plain": [
       "array([ 20.81866744,  76.68426234,  66.9615039 ,  -1.60462516,\n",
       "       -58.77960952,   9.70958445,  81.04057673, -31.55853077,\n",
       "        59.05261759, -70.50935439, -21.09348173,   6.15965355,\n",
       "         5.14352318, -88.62730651,   9.84558258, -66.65188881,\n",
       "       -33.85928368, -73.48231927,  28.15367142,   9.97063366,\n",
       "        -1.71570865,  71.84774296, -80.20902091, -36.52418795,\n",
       "       -45.31292424,  22.04913557,  11.33625608,  36.22006705,\n",
       "        20.33485341,  54.12666613,  84.84268463, -51.84831268,\n",
       "        19.27304908,   2.8221407 , -77.67503758, -60.80441928,\n",
       "        15.68729331, -10.87772798, -23.21423   , -65.38209229,\n",
       "        88.33021429, -79.10800988, -73.20211158,  36.16130107,\n",
       "        -9.40629638,  60.3418854 , -53.6047895 ,  -4.60620608,\n",
       "        86.18573036,  73.56343995])"
      ]
     },
     "execution_count": 8,
     "metadata": {},
     "output_type": "execute_result"
    }
   ],
   "source": [
    "np.random.uniform(-90.000, 90.000, size=50)"
   ]
  },
  {
   "cell_type": "code",
   "execution_count": 11,
   "id": "dcc50dbc",
   "metadata": {},
   "outputs": [],
   "source": [
    "import timeit"
   ]
  },
  {
   "cell_type": "code",
   "execution_count": 12,
   "id": "52873355",
   "metadata": {},
   "outputs": [
    {
     "name": "stdout",
     "output_type": "stream",
     "text": [
      "22.5 µs ± 170 ns per loop (mean ± std. dev. of 7 runs, 10000 loops each)\n"
     ]
    }
   ],
   "source": [
    "%timeit np.random.uniform(-90.000, 90.000, size=1500)"
   ]
  },
  {
   "cell_type": "code",
   "execution_count": 13,
   "id": "42a91cd7",
   "metadata": {},
   "outputs": [
    {
     "name": "stdout",
     "output_type": "stream",
     "text": [
      "3.13 ms ± 318 µs per loop (mean ± std. dev. of 7 runs, 100 loops each)\n"
     ]
    }
   ],
   "source": [
    "def latitudes(size):\n",
    "    latitudes = []\n",
    "    x = 0\n",
    "    while x < (size):\n",
    "        random_lat = random.randint(-90, 90) + random.random()\n",
    "        latitudes.append(random_lat)\n",
    "        x += 1\n",
    "    return latitudes\n",
    "# Call the function with 1500.\n",
    "%timeit latitudes(1500)"
   ]
  },
  {
   "cell_type": "code",
   "execution_count": null,
   "id": "635490b5",
   "metadata": {},
   "outputs": [],
   "source": []
  }
 ],
 "metadata": {
  "kernelspec": {
   "display_name": "Python 3 (ipykernel)",
   "language": "python",
   "name": "python3"
  },
  "language_info": {
   "codemirror_mode": {
    "name": "ipython",
    "version": 3
   },
   "file_extension": ".py",
   "mimetype": "text/x-python",
   "name": "python",
   "nbconvert_exporter": "python",
   "pygments_lexer": "ipython3",
   "version": "3.7.11"
  }
 },
 "nbformat": 4,
 "nbformat_minor": 5
}
